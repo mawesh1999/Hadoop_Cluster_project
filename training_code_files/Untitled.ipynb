{
 "cells": [
  {
   "cell_type": "code",
   "execution_count": 1,
   "id": "b8c925e3",
   "metadata": {},
   "outputs": [],
   "source": [
    "import pyspark\n",
    "import pandas\n",
    "from pyspark.sql.session import SparkSession\n",
    "from pyspark.sql.context import SQLContext\n",
    "from pyspark.sql.types import StructType\n",
    "from pyspark.context import SparkContext, SparkConf\n",
    "\n",
    "#spark = SparkSession.builder.master(\"spark://192.168.56.101:7077\").appName(\"project\").\\\n",
    "#config(\"spark.executor.instances\",'2').\\\n",
    "#config(\"spark.executor.cores\",'2').\\\n",
    "#getOrCreate()\n",
    "#diseasedata = spark.read.csv('hdfs://master:9000/dataset/heart.csv',header=true);\n",
    "#diseasedata.show(6)\n"
   ]
  },
  {
   "cell_type": "code",
   "execution_count": 2,
   "id": "7a107c13",
   "metadata": {},
   "outputs": [
    {
     "name": "stderr",
     "output_type": "stream",
     "text": [
      "Setting default log level to \"WARN\".\n",
      "To adjust logging level use sc.setLogLevel(newLevel). For SparkR, use setLogLevel(newLevel).\n"
     ]
    },
    {
     "name": "stdout",
     "output_type": "stream",
     "text": [
      "23/03/29 23:55:55 WARN NativeCodeLoader: Unable to load native-hadoop library for your platform... using builtin-java classes where applicable\n"
     ]
    }
   ],
   "source": [
    "sparkconf= SparkConf().setAppName('project').setMaster('spark://master:7077')\n",
    "sc = SparkContext.getOrCreate(conf=sparkconf)\n",
    "sc.stop()"
   ]
  },
  {
   "cell_type": "code",
   "execution_count": 3,
   "id": "48408fa9",
   "metadata": {},
   "outputs": [],
   "source": [
    "spark = SparkSession.builder.master(\"spark://master:7077\").appName(\"project\").getOrCreate()\n",
    "disease_schema = StructType().add('Age','integer')\\\n",
    "                     .add('Sex','string')\\\n",
    "                     .add('ChestPainType','string')\\\n",
    "                     .add('RestingBP','double')\\\n",
    "                     .add('Cholesterol','double')\\\n",
    "                     .add('FastingBS','double')\\\n",
    "                     .add('RestingECG','string')\\\n",
    "                     .add('MaxHR','double')\\\n",
    "                     .add('ExerciseAngina','string')\\\n",
    "                     .add('Oldpeak','double')\\\n",
    "                     .add('ST_Slope','string')\\\n",
    "                     .add('HeartDisease','double')"
   ]
  },
  {
   "cell_type": "code",
   "execution_count": 4,
   "id": "68a7447a",
   "metadata": {},
   "outputs": [
    {
     "name": "stderr",
     "output_type": "stream",
     "text": [
      "[Stage 2:>                                                          (0 + 1) / 1]\r"
     ]
    },
    {
     "name": "stdout",
     "output_type": "stream",
     "text": [
      "+--------+----------------+---+---+---------+---------+-----------+----------+-----+--------+------------+-------------------+\n",
      "|      ID|            Name|Age|Sex|Chestpain|RestingBP|Cholesterol|RestingECG|MaxHR|Exercise|HeartDisease|SusceptibilityIndex|\n",
      "+--------+----------------+---+---+---------+---------+-----------+----------+-----+--------+------------+-------------------+\n",
      "|ID001601|   Fernanda Love| 61|  M|        2|      140|        284|         0|  123|       0|           1|                 15|\n",
      "|ID001602|    Fidel Vaughn| 61|  M|        2|      120|        337|         0|   98|       0|           1|                 13|\n",
      "|ID001603|   Finnley Grant| 74|  M|        1|      155|        310|         0|  112|       0|           1|                 16|\n",
      "|ID001604|     Fiona Cross| 68|  M|        2|      134|        254|         0|  151|       0|           0|                  5|\n",
      "|ID001605|Fisher Fernandez| 51|  F|        1|      114|        258|         1|   96|       1|           0|                  3|\n",
      "+--------+----------------+---+---+---------+---------+-----------+----------+-----+--------+------------+-------------------+\n",
      "only showing top 5 rows\n",
      "\n"
     ]
    },
    {
     "name": "stderr",
     "output_type": "stream",
     "text": [
      "\r",
      "                                                                                \r"
     ]
    }
   ],
   "source": [
    "disease_data = spark.read.csv('hdfs://master:9000/heart_disease_dataset/',header = True, inferSchema = True)\n",
    "disease_data.show(5)"
   ]
  },
  {
   "cell_type": "code",
   "execution_count": 5,
   "id": "29f21565",
   "metadata": {},
   "outputs": [
    {
     "data": {
      "text/plain": [
       "['ID',\n",
       " 'Name',\n",
       " 'Age',\n",
       " 'Sex',\n",
       " 'Chestpain',\n",
       " 'RestingBP',\n",
       " 'Cholesterol',\n",
       " 'RestingECG',\n",
       " 'MaxHR',\n",
       " 'Exercise',\n",
       " 'HeartDisease',\n",
       " 'SusceptibilityIndex']"
      ]
     },
     "execution_count": 5,
     "metadata": {},
     "output_type": "execute_result"
    }
   ],
   "source": [
    "disease_data.columns"
   ]
  },
  {
   "cell_type": "code",
   "execution_count": 6,
   "id": "fee25ef6",
   "metadata": {},
   "outputs": [
    {
     "data": {
      "text/plain": [
       "pyspark.sql.dataframe.DataFrame"
      ]
     },
     "execution_count": 6,
     "metadata": {},
     "output_type": "execute_result"
    }
   ],
   "source": [
    "type(disease_data)"
   ]
  },
  {
   "cell_type": "code",
   "execution_count": 7,
   "id": "155fe945",
   "metadata": {},
   "outputs": [
    {
     "name": "stderr",
     "output_type": "stream",
     "text": [
      "\r",
      "[Stage 3:===================>                                       (1 + 2) / 3]\r",
      "\r",
      "                                                                                \r"
     ]
    }
   ],
   "source": [
    "pandas_disease_df = disease_data.toPandas()\n",
    "#disease_data['HeartDisease'].value_counts()"
   ]
  },
  {
   "cell_type": "code",
   "execution_count": 9,
   "id": "2daf75fc",
   "metadata": {},
   "outputs": [
    {
     "data": {
      "text/plain": [
       "1    508\n",
       "0    410\n",
       "Name: HeartDisease, dtype: int64"
      ]
     },
     "execution_count": 9,
     "metadata": {},
     "output_type": "execute_result"
    }
   ],
   "source": [
    "pandas_disease_df['HeartDisease'].value_counts()"
   ]
  },
  {
   "cell_type": "code",
   "execution_count": 10,
   "id": "5804dbcb",
   "metadata": {},
   "outputs": [
    {
     "data": {
      "text/html": [
       "<div>\n",
       "<style scoped>\n",
       "    .dataframe tbody tr th:only-of-type {\n",
       "        vertical-align: middle;\n",
       "    }\n",
       "\n",
       "    .dataframe tbody tr th {\n",
       "        vertical-align: top;\n",
       "    }\n",
       "\n",
       "    .dataframe thead th {\n",
       "        text-align: right;\n",
       "    }\n",
       "</style>\n",
       "<table border=\"1\" class=\"dataframe\">\n",
       "  <thead>\n",
       "    <tr style=\"text-align: right;\">\n",
       "      <th></th>\n",
       "      <th>ID</th>\n",
       "      <th>Name</th>\n",
       "      <th>Age</th>\n",
       "      <th>Sex</th>\n",
       "      <th>Chestpain</th>\n",
       "      <th>RestingBP</th>\n",
       "      <th>Cholesterol</th>\n",
       "      <th>RestingECG</th>\n",
       "      <th>MaxHR</th>\n",
       "      <th>Exercise</th>\n",
       "      <th>HeartDisease</th>\n",
       "      <th>SusceptibilityIndex</th>\n",
       "    </tr>\n",
       "  </thead>\n",
       "  <tbody>\n",
       "    <tr>\n",
       "      <th>0</th>\n",
       "      <td>ID001601</td>\n",
       "      <td>Fernanda Love</td>\n",
       "      <td>61</td>\n",
       "      <td>M</td>\n",
       "      <td>2</td>\n",
       "      <td>140</td>\n",
       "      <td>284</td>\n",
       "      <td>0</td>\n",
       "      <td>123</td>\n",
       "      <td>0</td>\n",
       "      <td>1</td>\n",
       "      <td>15</td>\n",
       "    </tr>\n",
       "    <tr>\n",
       "      <th>1</th>\n",
       "      <td>ID001602</td>\n",
       "      <td>Fidel Vaughn</td>\n",
       "      <td>61</td>\n",
       "      <td>M</td>\n",
       "      <td>2</td>\n",
       "      <td>120</td>\n",
       "      <td>337</td>\n",
       "      <td>0</td>\n",
       "      <td>98</td>\n",
       "      <td>0</td>\n",
       "      <td>1</td>\n",
       "      <td>13</td>\n",
       "    </tr>\n",
       "    <tr>\n",
       "      <th>2</th>\n",
       "      <td>ID001603</td>\n",
       "      <td>Finnley Grant</td>\n",
       "      <td>74</td>\n",
       "      <td>M</td>\n",
       "      <td>1</td>\n",
       "      <td>155</td>\n",
       "      <td>310</td>\n",
       "      <td>0</td>\n",
       "      <td>112</td>\n",
       "      <td>0</td>\n",
       "      <td>1</td>\n",
       "      <td>16</td>\n",
       "    </tr>\n",
       "    <tr>\n",
       "      <th>3</th>\n",
       "      <td>ID001604</td>\n",
       "      <td>Fiona Cross</td>\n",
       "      <td>68</td>\n",
       "      <td>M</td>\n",
       "      <td>2</td>\n",
       "      <td>134</td>\n",
       "      <td>254</td>\n",
       "      <td>0</td>\n",
       "      <td>151</td>\n",
       "      <td>0</td>\n",
       "      <td>0</td>\n",
       "      <td>5</td>\n",
       "    </tr>\n",
       "    <tr>\n",
       "      <th>4</th>\n",
       "      <td>ID001605</td>\n",
       "      <td>Fisher Fernandez</td>\n",
       "      <td>51</td>\n",
       "      <td>F</td>\n",
       "      <td>1</td>\n",
       "      <td>114</td>\n",
       "      <td>258</td>\n",
       "      <td>1</td>\n",
       "      <td>96</td>\n",
       "      <td>1</td>\n",
       "      <td>0</td>\n",
       "      <td>3</td>\n",
       "    </tr>\n",
       "  </tbody>\n",
       "</table>\n",
       "</div>"
      ],
      "text/plain": [
       "         ID              Name  Age Sex  Chestpain  RestingBP  Cholesterol  \\\n",
       "0  ID001601     Fernanda Love   61   M          2        140          284   \n",
       "1  ID001602      Fidel Vaughn   61   M          2        120          337   \n",
       "2  ID001603     Finnley Grant   74   M          1        155          310   \n",
       "3  ID001604       Fiona Cross   68   M          2        134          254   \n",
       "4  ID001605  Fisher Fernandez   51   F          1        114          258   \n",
       "\n",
       "   RestingECG  MaxHR  Exercise  HeartDisease  SusceptibilityIndex  \n",
       "0           0    123         0             1                   15  \n",
       "1           0     98         0             1                   13  \n",
       "2           0    112         0             1                   16  \n",
       "3           0    151         0             0                    5  \n",
       "4           1     96         1             0                    3  "
      ]
     },
     "execution_count": 10,
     "metadata": {},
     "output_type": "execute_result"
    }
   ],
   "source": [
    "pandas_disease_df.head(5)"
   ]
  },
  {
   "cell_type": "code",
   "execution_count": 11,
   "id": "0de2cf8a",
   "metadata": {},
   "outputs": [],
   "source": [
    "#pandas_disease_df=pandas_disease_df.drop(index=0)"
   ]
  },
  {
   "cell_type": "code",
   "execution_count": 12,
   "id": "6184737b",
   "metadata": {},
   "outputs": [
    {
     "data": {
      "text/html": [
       "<div>\n",
       "<style scoped>\n",
       "    .dataframe tbody tr th:only-of-type {\n",
       "        vertical-align: middle;\n",
       "    }\n",
       "\n",
       "    .dataframe tbody tr th {\n",
       "        vertical-align: top;\n",
       "    }\n",
       "\n",
       "    .dataframe thead th {\n",
       "        text-align: right;\n",
       "    }\n",
       "</style>\n",
       "<table border=\"1\" class=\"dataframe\">\n",
       "  <thead>\n",
       "    <tr style=\"text-align: right;\">\n",
       "      <th></th>\n",
       "      <th>ID</th>\n",
       "      <th>Name</th>\n",
       "      <th>Age</th>\n",
       "      <th>Sex</th>\n",
       "      <th>Chestpain</th>\n",
       "      <th>RestingBP</th>\n",
       "      <th>Cholesterol</th>\n",
       "      <th>RestingECG</th>\n",
       "      <th>MaxHR</th>\n",
       "      <th>Exercise</th>\n",
       "      <th>HeartDisease</th>\n",
       "      <th>SusceptibilityIndex</th>\n",
       "    </tr>\n",
       "  </thead>\n",
       "  <tbody>\n",
       "    <tr>\n",
       "      <th>0</th>\n",
       "      <td>ID001601</td>\n",
       "      <td>Fernanda Love</td>\n",
       "      <td>61</td>\n",
       "      <td>M</td>\n",
       "      <td>2</td>\n",
       "      <td>140</td>\n",
       "      <td>284</td>\n",
       "      <td>0</td>\n",
       "      <td>123</td>\n",
       "      <td>0</td>\n",
       "      <td>1</td>\n",
       "      <td>15</td>\n",
       "    </tr>\n",
       "    <tr>\n",
       "      <th>1</th>\n",
       "      <td>ID001602</td>\n",
       "      <td>Fidel Vaughn</td>\n",
       "      <td>61</td>\n",
       "      <td>M</td>\n",
       "      <td>2</td>\n",
       "      <td>120</td>\n",
       "      <td>337</td>\n",
       "      <td>0</td>\n",
       "      <td>98</td>\n",
       "      <td>0</td>\n",
       "      <td>1</td>\n",
       "      <td>13</td>\n",
       "    </tr>\n",
       "  </tbody>\n",
       "</table>\n",
       "</div>"
      ],
      "text/plain": [
       "         ID           Name  Age Sex  Chestpain  RestingBP  Cholesterol  \\\n",
       "0  ID001601  Fernanda Love   61   M          2        140          284   \n",
       "1  ID001602   Fidel Vaughn   61   M          2        120          337   \n",
       "\n",
       "   RestingECG  MaxHR  Exercise  HeartDisease  SusceptibilityIndex  \n",
       "0           0    123         0             1                   15  \n",
       "1           0     98         0             1                   13  "
      ]
     },
     "execution_count": 12,
     "metadata": {},
     "output_type": "execute_result"
    }
   ],
   "source": [
    "pandas_disease_df.head(2)"
   ]
  },
  {
   "cell_type": "code",
   "execution_count": 13,
   "id": "3371377c",
   "metadata": {},
   "outputs": [
    {
     "data": {
      "text/plain": [
       "54    51\n",
       "58    42\n",
       "55    41\n",
       "57    38\n",
       "56    38\n",
       "52    36\n",
       "51    35\n",
       "62    35\n",
       "59    35\n",
       "53    33\n",
       "60    32\n",
       "48    31\n",
       "61    31\n",
       "63    30\n",
       "50    25\n",
       "43    24\n",
       "41    24\n",
       "46    24\n",
       "64    22\n",
       "65    21\n",
       "49    21\n",
       "44    19\n",
       "47    19\n",
       "45    18\n",
       "42    18\n",
       "38    16\n",
       "39    15\n",
       "67    15\n",
       "69    13\n",
       "66    13\n",
       "40    13\n",
       "37    11\n",
       "35    11\n",
       "68    10\n",
       "34     7\n",
       "70     7\n",
       "74     7\n",
       "36     6\n",
       "71     5\n",
       "32     5\n",
       "72     4\n",
       "29     3\n",
       "75     3\n",
       "77     2\n",
       "31     2\n",
       "33     2\n",
       "76     2\n",
       "28     1\n",
       "30     1\n",
       "73     1\n",
       "Name: Age, dtype: int64"
      ]
     },
     "execution_count": 13,
     "metadata": {},
     "output_type": "execute_result"
    }
   ],
   "source": [
    "pandas_disease_df['Age'].value_counts()"
   ]
  },
  {
   "cell_type": "code",
   "execution_count": 14,
   "id": "99027fd7",
   "metadata": {},
   "outputs": [
    {
     "data": {
      "text/plain": [
       "M    725\n",
       "F    193\n",
       "Name: Sex, dtype: int64"
      ]
     },
     "execution_count": 14,
     "metadata": {},
     "output_type": "execute_result"
    }
   ],
   "source": [
    "pandas_disease_df['Sex'].value_counts()"
   ]
  },
  {
   "cell_type": "code",
   "execution_count": 15,
   "id": "d5da7ead",
   "metadata": {},
   "outputs": [
    {
     "data": {
      "text/plain": [
       "M    725\n",
       "F    193\n",
       "Name: Sex, dtype: int64"
      ]
     },
     "execution_count": 15,
     "metadata": {},
     "output_type": "execute_result"
    }
   ],
   "source": [
    "pandas_disease_df['Sex'].value_counts()"
   ]
  },
  {
   "cell_type": "code",
   "execution_count": 16,
   "id": "ab9d6924",
   "metadata": {},
   "outputs": [
    {
     "data": {
      "text/plain": [
       "1    496\n",
       "2    203\n",
       "3    173\n",
       "5     46\n",
       "Name: Chestpain, dtype: int64"
      ]
     },
     "execution_count": 16,
     "metadata": {},
     "output_type": "execute_result"
    }
   ],
   "source": [
    "pandas_disease_df['Chestpain'].value_counts()"
   ]
  },
  {
   "cell_type": "code",
   "execution_count": 17,
   "id": "3bf593b2",
   "metadata": {},
   "outputs": [
    {
     "data": {
      "text/plain": [
       "120    132\n",
       "130    118\n",
       "140    107\n",
       "110     58\n",
       "150     55\n",
       "      ... \n",
       "113      1\n",
       "80       1\n",
       "129      1\n",
       "92       1\n",
       "98       1\n",
       "Name: RestingBP, Length: 67, dtype: int64"
      ]
     },
     "execution_count": 17,
     "metadata": {},
     "output_type": "execute_result"
    }
   ],
   "source": [
    "pandas_disease_df['RestingBP'].value_counts()"
   ]
  },
  {
   "cell_type": "code",
   "execution_count": 18,
   "id": "803fcf09",
   "metadata": {},
   "outputs": [
    {
     "data": {
      "text/plain": [
       "0      172\n",
       "254     11\n",
       "220     10\n",
       "223     10\n",
       "204      9\n",
       "      ... \n",
       "417      1\n",
       "564      1\n",
       "178      1\n",
       "388      1\n",
       "165      1\n",
       "Name: Cholesterol, Length: 222, dtype: int64"
      ]
     },
     "execution_count": 18,
     "metadata": {},
     "output_type": "execute_result"
    }
   ],
   "source": [
    "pandas_disease_df['Cholesterol'].value_counts()"
   ]
  },
  {
   "cell_type": "code",
   "execution_count": 19,
   "id": "154db2ea",
   "metadata": {},
   "outputs": [],
   "source": [
    "#pandas_disease_df['ST_Slope'].value_counts()\n"
   ]
  },
  {
   "cell_type": "code",
   "execution_count": 20,
   "id": "04fe214d",
   "metadata": {},
   "outputs": [],
   "source": [
    "df_rdd = disease_data.rdd"
   ]
  },
  {
   "cell_type": "code",
   "execution_count": 21,
   "id": "3748fdce",
   "metadata": {},
   "outputs": [
    {
     "data": {
      "text/plain": [
       "pyspark.sql.dataframe.DataFrame"
      ]
     },
     "execution_count": 21,
     "metadata": {},
     "output_type": "execute_result"
    }
   ],
   "source": [
    "type(disease_data)"
   ]
  },
  {
   "cell_type": "code",
   "execution_count": 22,
   "id": "9e9ec077",
   "metadata": {},
   "outputs": [
    {
     "name": "stderr",
     "output_type": "stream",
     "text": [
      "                                                                                \r"
     ]
    },
    {
     "data": {
      "text/plain": [
       "918"
      ]
     },
     "execution_count": 22,
     "metadata": {},
     "output_type": "execute_result"
    }
   ],
   "source": [
    "df_rdd.count()"
   ]
  },
  {
   "cell_type": "code",
   "execution_count": 23,
   "id": "2073d09b",
   "metadata": {},
   "outputs": [
    {
     "name": "stdout",
     "output_type": "stream",
     "text": [
      "+--------+----------------+---+---+---------+---------+-----------+----------+-----+--------+------------+-------------------+\n",
      "|      ID|            Name|Age|Sex|Chestpain|RestingBP|Cholesterol|RestingECG|MaxHR|Exercise|HeartDisease|SusceptibilityIndex|\n",
      "+--------+----------------+---+---+---------+---------+-----------+----------+-----+--------+------------+-------------------+\n",
      "|ID001601|   Fernanda Love| 61|  M|        2|      140|        284|         0|  123|       0|           1|                 15|\n",
      "|ID001602|    Fidel Vaughn| 61|  M|        2|      120|        337|         0|   98|       0|           1|                 13|\n",
      "|ID001603|   Finnley Grant| 74|  M|        1|      155|        310|         0|  112|       0|           1|                 16|\n",
      "|ID001604|     Fiona Cross| 68|  M|        2|      134|        254|         0|  151|       0|           0|                  5|\n",
      "|ID001605|Fisher Fernandez| 51|  F|        1|      114|        258|         1|   96|       1|           0|                  3|\n",
      "+--------+----------------+---+---+---------+---------+-----------+----------+-----+--------+------------+-------------------+\n",
      "only showing top 5 rows\n",
      "\n"
     ]
    }
   ],
   "source": [
    "disease_data.show(5)"
   ]
  },
  {
   "cell_type": "code",
   "execution_count": 24,
   "id": "51da0dee",
   "metadata": {},
   "outputs": [
    {
     "data": {
      "text/plain": [
       "numpy.int32"
      ]
     },
     "execution_count": 24,
     "metadata": {},
     "output_type": "execute_result"
    }
   ],
   "source": [
    "type(pandas_disease_df.iloc[2,2])"
   ]
  },
  {
   "cell_type": "code",
   "execution_count": 24,
   "id": "4b29b19a",
   "metadata": {},
   "outputs": [],
   "source": [
    "pandas_disease_df['Age'] = pandas_disease_df['Age'].astype(int)"
   ]
  },
  {
   "cell_type": "code",
   "execution_count": 25,
   "id": "6d9b8bd6",
   "metadata": {},
   "outputs": [],
   "source": [
    "pandas_disease_df['Chestpain'] = pandas_disease_df['Chestpain'].astype(int)"
   ]
  },
  {
   "cell_type": "code",
   "execution_count": 26,
   "id": "be9e5224",
   "metadata": {},
   "outputs": [],
   "source": [
    "pandas_disease_df['RestingBP'] = pandas_disease_df['RestingBP'].astype(int)"
   ]
  },
  {
   "cell_type": "code",
   "execution_count": 27,
   "id": "022b2779",
   "metadata": {},
   "outputs": [],
   "source": [
    "pandas_disease_df['RestingECG'] = pandas_disease_df['RestingECG'].astype(int)"
   ]
  },
  {
   "cell_type": "code",
   "execution_count": 28,
   "id": "a219a7f1",
   "metadata": {},
   "outputs": [],
   "source": [
    "pandas_disease_df['MaxHR'] = pandas_disease_df['MaxHR'].astype(int)"
   ]
  },
  {
   "cell_type": "code",
   "execution_count": 29,
   "id": "e8a647cc",
   "metadata": {},
   "outputs": [],
   "source": [
    "pandas_disease_df['Exercise'] = pandas_disease_df['Exercise'].astype(int)"
   ]
  },
  {
   "cell_type": "code",
   "execution_count": 30,
   "id": "90ed64f4",
   "metadata": {},
   "outputs": [],
   "source": [
    "pandas_disease_df['Heart Disease'] = pandas_disease_df['Heart Disease'].astype(int)"
   ]
  },
  {
   "cell_type": "code",
   "execution_count": 31,
   "id": "aaf54477",
   "metadata": {},
   "outputs": [],
   "source": [
    "pandas_disease_df['Cholesterol'] = pandas_disease_df['Cholesterol'].astype(int)"
   ]
  },
  {
   "cell_type": "code",
   "execution_count": 32,
   "id": "043580d8",
   "metadata": {},
   "outputs": [],
   "source": [
    "pandas_disease_df['Susceptibility Index'] = pandas_disease_df['Cholesterol'].astype(int)"
   ]
  },
  {
   "cell_type": "code",
   "execution_count": 33,
   "id": "5a98ab22",
   "metadata": {},
   "outputs": [
    {
     "data": {
      "text/plain": [
       "numpy.int64"
      ]
     },
     "execution_count": 33,
     "metadata": {},
     "output_type": "execute_result"
    }
   ],
   "source": [
    "type(pandas_disease_df.iloc[2,2])"
   ]
  },
  {
   "cell_type": "code",
   "execution_count": 25,
   "id": "d7685a6e",
   "metadata": {},
   "outputs": [
    {
     "data": {
      "text/plain": [
       "Index(['ID', 'Name', 'Age', 'Sex', 'Chestpain', 'RestingBP', 'Cholesterol',\n",
       "       'RestingECG', 'MaxHR', 'Exercise', 'HeartDisease',\n",
       "       'SusceptibilityIndex'],\n",
       "      dtype='object')"
      ]
     },
     "execution_count": 25,
     "metadata": {},
     "output_type": "execute_result"
    }
   ],
   "source": [
    "pandas_disease_df.columns"
   ]
  },
  {
   "cell_type": "code",
   "execution_count": 26,
   "id": "eb242fcc",
   "metadata": {},
   "outputs": [
    {
     "name": "stderr",
     "output_type": "stream",
     "text": [
      "/home/hduser/spark-3.3.2-bin-hadoop3/python/pyspark/sql/pandas/conversion.py:474: FutureWarning: iteritems is deprecated and will be removed in a future version. Use .items instead.\n",
      "  for column, series in pdf.iteritems():\n",
      "/home/hduser/spark-3.3.2-bin-hadoop3/python/pyspark/sql/pandas/conversion.py:486: FutureWarning: iteritems is deprecated and will be removed in a future version. Use .items instead.\n",
      "  for column, series in pdf.iteritems():\n"
     ]
    }
   ],
   "source": [
    "disease_data = spark.createDataFrame(pandas_disease_df)"
   ]
  },
  {
   "cell_type": "code",
   "execution_count": 27,
   "id": "39e4ab75",
   "metadata": {
    "scrolled": true
   },
   "outputs": [],
   "source": [
    "required_features = ['Age',\n",
    "                     'Chestpain',\n",
    "                    'RestingBP',\n",
    "                     'Cholesterol',\n",
    "                     'RestingECG',\n",
    "                     'MaxHR',\n",
    "                     'Exercise',\n",
    "                     'HeartDisease'\n",
    "                   ]\n",
    "\n",
    "from pyspark.ml.feature import VectorAssembler\n",
    "\n",
    "assembler = VectorAssembler(inputCols=required_features, outputCol='features')\n",
    "\n",
    "transformed_data = assembler.transform(disease_data)\n",
    "\n"
   ]
  },
  {
   "cell_type": "code",
   "execution_count": 28,
   "id": "9b11b1aa",
   "metadata": {},
   "outputs": [],
   "source": [
    "(training_data, test_data) = transformed_data.randomSplit([0.8,0.2])"
   ]
  },
  {
   "cell_type": "code",
   "execution_count": 29,
   "id": "98cda4f4",
   "metadata": {},
   "outputs": [
    {
     "name": "stderr",
     "output_type": "stream",
     "text": [
      "\r",
      "[Stage 6:>                                                          (0 + 1) / 1]\r"
     ]
    },
    {
     "name": "stdout",
     "output_type": "stream",
     "text": [
      "+--------+-------------+---+---+---------+---------+-----------+----------+-----+--------+------------+-------------------+--------------------+\n",
      "|      ID|         Name|Age|Sex|Chestpain|RestingBP|Cholesterol|RestingECG|MaxHR|Exercise|HeartDisease|SusceptibilityIndex|            features|\n",
      "+--------+-------------+---+---+---------+---------+-----------+----------+-----+--------+------------+-------------------+--------------------+\n",
      "|ID001601|Fernanda Love| 61|  M|        2|      140|        284|         0|  123|       0|           1|                 15|[61.0,2.0,140.0,2...|\n",
      "|ID001602| Fidel Vaughn| 61|  M|        2|      120|        337|         0|   98|       0|           1|                 13|[61.0,2.0,120.0,3...|\n",
      "+--------+-------------+---+---+---------+---------+-----------+----------+-----+--------+------------+-------------------+--------------------+\n",
      "only showing top 2 rows\n",
      "\n"
     ]
    },
    {
     "name": "stderr",
     "output_type": "stream",
     "text": [
      "\r",
      "                                                                                \r"
     ]
    }
   ],
   "source": [
    "training_data.show(2)"
   ]
  },
  {
   "cell_type": "raw",
   "id": "dd200868",
   "metadata": {},
   "source": [
    "training_data"
   ]
  },
  {
   "cell_type": "code",
   "execution_count": 30,
   "id": "2e890c7f",
   "metadata": {},
   "outputs": [
    {
     "name": "stderr",
     "output_type": "stream",
     "text": [
      "                                                                                \r"
     ]
    }
   ],
   "source": [
    "from pyspark.ml.classification import LogisticRegression\n",
    "\n",
    "lr = LogisticRegression(featuresCol = 'features', labelCol = 'SusceptibilityIndex')\n",
    "lrModel = lr.fit(training_data)\n",
    "lr_predictions = lrModel.transform(test_data)"
   ]
  },
  {
   "cell_type": "code",
   "execution_count": 31,
   "id": "008d649e",
   "metadata": {},
   "outputs": [
    {
     "name": "stdout",
     "output_type": "stream",
     "text": [
      "+--------+----------------+---+---------+---------+----------+-----+-----------+------------+-------------------+\n",
      "|      ID|            Name|Age|Chestpain|RestingBP|RestingECG|MaxHR|Cholesterol|HeartDisease|SusceptibilityIndex|\n",
      "+--------+----------------+---+---------+---------+----------+-----+-----------+------------+-------------------+\n",
      "|ID001605|Fisher Fernandez| 51|        1|      114|         1|   96|        258|           0|                  3|\n",
      "|ID001611|   Forest Stuart| 62|        5|      135|         2|  137|        139|           0|                 10|\n",
      "|ID001614| Francesco Huynh| 62|        3|      120|         1|   93|        254|           1|                 15|\n",
      "|ID001615|  Francine Potts| 70|        1|      130|         1|  109|        322|           1|                 16|\n",
      "|ID001618|  Franklin Gates| 64|        1|      128|         0|  105|        263|           0|                  3|\n",
      "|ID001619| Franny Woodward| 74|        3|      120|         1|  121|        269|           0|                  6|\n",
      "|ID001624|     Frieda Owen| 63|        1|      150|         1|  154|        407|           1|                 17|\n",
      "|ID001627|     Fynn Massey| 44|        2|      140|         1|  180|        235|           0|                  6|\n",
      "|ID001629|   Gael Griffith| 57|        1|      128|         1|  159|        303|           0|                  4|\n",
      "|ID001641|    Gavyn Powers| 46|        1|      138|         1|  152|        243|           0|                  3|\n",
      "+--------+----------------+---+---------+---------+----------+-----+-----------+------------+-------------------+\n",
      "only showing top 10 rows\n",
      "\n"
     ]
    }
   ],
   "source": [
    "lr_predictions.select('ID','Name','Age', 'Chestpain','RestingBP', 'RestingECG','MaxHR','Cholesterol', 'HeartDisease','SusceptibilityIndex').show(10)"
   ]
  },
  {
   "cell_type": "code",
   "execution_count": 32,
   "id": "f015aa2e",
   "metadata": {},
   "outputs": [
    {
     "name": "stderr",
     "output_type": "stream",
     "text": [
      "[Stage 112:>                                                        (0 + 3) / 3]\r"
     ]
    },
    {
     "name": "stdout",
     "output_type": "stream",
     "text": [
      "Logistic Regression Accuracy: 0.6352941176470588\n"
     ]
    },
    {
     "name": "stderr",
     "output_type": "stream",
     "text": [
      "\r",
      "[Stage 112:===================>                                     (1 + 2) / 3]\r",
      "\r",
      "                                                                                \r"
     ]
    }
   ],
   "source": [
    "from pyspark.ml.evaluation import MulticlassClassificationEvaluator\n",
    "\n",
    "multi_evaluator = MulticlassClassificationEvaluator(labelCol = 'SusceptibilityIndex', metricName = 'accuracy')\n",
    "print('Logistic Regression Accuracy:', multi_evaluator.evaluate(lr_predictions))"
   ]
  },
  {
   "cell_type": "code",
   "execution_count": null,
   "id": "ebcefe47",
   "metadata": {},
   "outputs": [
    {
     "name": "stderr",
     "output_type": "stream",
     "text": [
      "[Stage 116:>                                                        (0 + 1) / 1]\r"
     ]
    }
   ],
   "source": [
    "lrModel.save('hdfs://master:9000/lrmodel')"
   ]
  },
  {
   "cell_type": "code",
   "execution_count": null,
   "id": "e7cd5c14",
   "metadata": {},
   "outputs": [],
   "source": []
  }
 ],
 "metadata": {
  "kernelspec": {
   "display_name": "Python 3 (ipykernel)",
   "language": "python",
   "name": "python3"
  },
  "language_info": {
   "codemirror_mode": {
    "name": "ipython",
    "version": 3
   },
   "file_extension": ".py",
   "mimetype": "text/x-python",
   "name": "python",
   "nbconvert_exporter": "python",
   "pygments_lexer": "ipython3",
   "version": "3.10.6"
  }
 },
 "nbformat": 4,
 "nbformat_minor": 5
}
